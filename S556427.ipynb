{
 "cells": [
  {
   "cell_type": "markdown",
   "id": "40d2c137-14be-424e-90e4-5698ee15c584",
   "metadata": {},
   "source": [
    "Malcolm Phillip"
   ]
  },
  {
   "cell_type": "code",
   "execution_count": 1,
   "id": "3214c874-f6c5-4cec-ac72-a72770ff9baa",
   "metadata": {},
   "outputs": [
    {
     "name": "stdout",
     "output_type": "stream",
     "text": [
      "*      *\n",
      "**    **\n",
      "***  ***\n",
      "********\n"
     ]
    }
   ],
   "source": [
    "def draw_pattern(rows):\n",
    "    for i in range(rows):\n",
    "        for j in range(i + 1):\n",
    "            print(\"*\", end=\"\")\n",
    "        for k in range(2 * (rows - i - 1)):\n",
    "            print(\" \", end=\"\")\n",
    "        for l in range(i + 1):\n",
    "            print(\"*\", end=\"\")\n",
    "        print()\n",
    "\n",
    "draw_pattern(4)"
   ]
  }
 ],
 "metadata": {
  "kernelspec": {
   "display_name": "Python 3 (ipykernel)",
   "language": "python",
   "name": "python3"
  },
  "language_info": {
   "codemirror_mode": {
    "name": "ipython",
    "version": 3
   },
   "file_extension": ".py",
   "mimetype": "text/x-python",
   "name": "python",
   "nbconvert_exporter": "python",
   "pygments_lexer": "ipython3",
   "version": "3.9.13"
  }
 },
 "nbformat": 4,
 "nbformat_minor": 5
}
